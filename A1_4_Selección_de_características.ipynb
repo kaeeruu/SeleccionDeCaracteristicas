{
  "nbformat": 4,
  "nbformat_minor": 0,
  "metadata": {
    "colab": {
      "provenance": []
    },
    "kernelspec": {
      "name": "python3",
      "display_name": "Python 3"
    },
    "language_info": {
      "name": "python"
    }
  },
  "cells": [
    {
      "cell_type": "markdown",
      "source": [
        "## **A1.4 Selección de características**"
      ],
      "metadata": {
        "id": "uW8qwT9OEZKp"
      }
    },
    {
      "cell_type": "markdown",
      "source": [
        "**1.** Para comenzar se importa la base de datos \"*A1.4 Vino Tinto.csv*\" con la función `read_csv` de la librería **pandas**. Utilizando la función `.head(5)` se imprimen las primeras 5 filas para observar la estructura de los datos."
      ],
      "metadata": {
        "id": "Cbvbg7TxEijd"
      }
    },
    {
      "cell_type": "code",
      "execution_count": 95,
      "metadata": {
        "colab": {
          "base_uri": "https://localhost:8080/",
          "height": 223
        },
        "id": "m--QbSlpKZFc",
        "outputId": "b3f12d0b-319f-4541-ae02-8cf7fd40a461"
      },
      "outputs": [
        {
          "output_type": "stream",
          "name": "stdout",
          "text": [
            "Las dimensiones de la base de datos son de 1599 filas x 12 columnas\n"
          ]
        },
        {
          "output_type": "execute_result",
          "data": {
            "text/plain": [
              "   acidezFija  acidezVolatil  acidoCitrico  azucarResidual  cloruros  \\\n",
              "0         7.4           0.70          0.00             1.9     0.076   \n",
              "1         7.8           0.88          0.00             2.6     0.098   \n",
              "2         7.8           0.76          0.04             2.3     0.092   \n",
              "3        11.2           0.28          0.56             1.9     0.075   \n",
              "4         7.4           0.70          0.00             1.9     0.076   \n",
              "\n",
              "   dioxidoAzufreLibre  dioxidoAzufreTotal  densidad    pH  sulfatos  alcohol  \\\n",
              "0                11.0                34.0    0.9978  3.51      0.56      9.4   \n",
              "1                25.0                67.0    0.9968  3.20      0.68      9.8   \n",
              "2                15.0                54.0    0.9970  3.26      0.65      9.8   \n",
              "3                17.0                60.0    0.9980  3.16      0.58      9.8   \n",
              "4                11.0                34.0    0.9978  3.51      0.56      9.4   \n",
              "\n",
              "   calidad  \n",
              "0        5  \n",
              "1        5  \n",
              "2        5  \n",
              "3        6  \n",
              "4        5  "
            ],
            "text/html": [
              "\n",
              "  <div id=\"df-9ab39e92-e8da-496b-ab59-f1d133f66c8b\" class=\"colab-df-container\">\n",
              "    <div>\n",
              "<style scoped>\n",
              "    .dataframe tbody tr th:only-of-type {\n",
              "        vertical-align: middle;\n",
              "    }\n",
              "\n",
              "    .dataframe tbody tr th {\n",
              "        vertical-align: top;\n",
              "    }\n",
              "\n",
              "    .dataframe thead th {\n",
              "        text-align: right;\n",
              "    }\n",
              "</style>\n",
              "<table border=\"1\" class=\"dataframe\">\n",
              "  <thead>\n",
              "    <tr style=\"text-align: right;\">\n",
              "      <th></th>\n",
              "      <th>acidezFija</th>\n",
              "      <th>acidezVolatil</th>\n",
              "      <th>acidoCitrico</th>\n",
              "      <th>azucarResidual</th>\n",
              "      <th>cloruros</th>\n",
              "      <th>dioxidoAzufreLibre</th>\n",
              "      <th>dioxidoAzufreTotal</th>\n",
              "      <th>densidad</th>\n",
              "      <th>pH</th>\n",
              "      <th>sulfatos</th>\n",
              "      <th>alcohol</th>\n",
              "      <th>calidad</th>\n",
              "    </tr>\n",
              "  </thead>\n",
              "  <tbody>\n",
              "    <tr>\n",
              "      <th>0</th>\n",
              "      <td>7.4</td>\n",
              "      <td>0.70</td>\n",
              "      <td>0.00</td>\n",
              "      <td>1.9</td>\n",
              "      <td>0.076</td>\n",
              "      <td>11.0</td>\n",
              "      <td>34.0</td>\n",
              "      <td>0.9978</td>\n",
              "      <td>3.51</td>\n",
              "      <td>0.56</td>\n",
              "      <td>9.4</td>\n",
              "      <td>5</td>\n",
              "    </tr>\n",
              "    <tr>\n",
              "      <th>1</th>\n",
              "      <td>7.8</td>\n",
              "      <td>0.88</td>\n",
              "      <td>0.00</td>\n",
              "      <td>2.6</td>\n",
              "      <td>0.098</td>\n",
              "      <td>25.0</td>\n",
              "      <td>67.0</td>\n",
              "      <td>0.9968</td>\n",
              "      <td>3.20</td>\n",
              "      <td>0.68</td>\n",
              "      <td>9.8</td>\n",
              "      <td>5</td>\n",
              "    </tr>\n",
              "    <tr>\n",
              "      <th>2</th>\n",
              "      <td>7.8</td>\n",
              "      <td>0.76</td>\n",
              "      <td>0.04</td>\n",
              "      <td>2.3</td>\n",
              "      <td>0.092</td>\n",
              "      <td>15.0</td>\n",
              "      <td>54.0</td>\n",
              "      <td>0.9970</td>\n",
              "      <td>3.26</td>\n",
              "      <td>0.65</td>\n",
              "      <td>9.8</td>\n",
              "      <td>5</td>\n",
              "    </tr>\n",
              "    <tr>\n",
              "      <th>3</th>\n",
              "      <td>11.2</td>\n",
              "      <td>0.28</td>\n",
              "      <td>0.56</td>\n",
              "      <td>1.9</td>\n",
              "      <td>0.075</td>\n",
              "      <td>17.0</td>\n",
              "      <td>60.0</td>\n",
              "      <td>0.9980</td>\n",
              "      <td>3.16</td>\n",
              "      <td>0.58</td>\n",
              "      <td>9.8</td>\n",
              "      <td>6</td>\n",
              "    </tr>\n",
              "    <tr>\n",
              "      <th>4</th>\n",
              "      <td>7.4</td>\n",
              "      <td>0.70</td>\n",
              "      <td>0.00</td>\n",
              "      <td>1.9</td>\n",
              "      <td>0.076</td>\n",
              "      <td>11.0</td>\n",
              "      <td>34.0</td>\n",
              "      <td>0.9978</td>\n",
              "      <td>3.51</td>\n",
              "      <td>0.56</td>\n",
              "      <td>9.4</td>\n",
              "      <td>5</td>\n",
              "    </tr>\n",
              "  </tbody>\n",
              "</table>\n",
              "</div>\n",
              "    <div class=\"colab-df-buttons\">\n",
              "\n",
              "  <div class=\"colab-df-container\">\n",
              "    <button class=\"colab-df-convert\" onclick=\"convertToInteractive('df-9ab39e92-e8da-496b-ab59-f1d133f66c8b')\"\n",
              "            title=\"Convert this dataframe to an interactive table.\"\n",
              "            style=\"display:none;\">\n",
              "\n",
              "  <svg xmlns=\"http://www.w3.org/2000/svg\" height=\"24px\" viewBox=\"0 -960 960 960\">\n",
              "    <path d=\"M120-120v-720h720v720H120Zm60-500h600v-160H180v160Zm220 220h160v-160H400v160Zm0 220h160v-160H400v160ZM180-400h160v-160H180v160Zm440 0h160v-160H620v160ZM180-180h160v-160H180v160Zm440 0h160v-160H620v160Z\"/>\n",
              "  </svg>\n",
              "    </button>\n",
              "\n",
              "  <style>\n",
              "    .colab-df-container {\n",
              "      display:flex;\n",
              "      gap: 12px;\n",
              "    }\n",
              "\n",
              "    .colab-df-convert {\n",
              "      background-color: #E8F0FE;\n",
              "      border: none;\n",
              "      border-radius: 50%;\n",
              "      cursor: pointer;\n",
              "      display: none;\n",
              "      fill: #1967D2;\n",
              "      height: 32px;\n",
              "      padding: 0 0 0 0;\n",
              "      width: 32px;\n",
              "    }\n",
              "\n",
              "    .colab-df-convert:hover {\n",
              "      background-color: #E2EBFA;\n",
              "      box-shadow: 0px 1px 2px rgba(60, 64, 67, 0.3), 0px 1px 3px 1px rgba(60, 64, 67, 0.15);\n",
              "      fill: #174EA6;\n",
              "    }\n",
              "\n",
              "    .colab-df-buttons div {\n",
              "      margin-bottom: 4px;\n",
              "    }\n",
              "\n",
              "    [theme=dark] .colab-df-convert {\n",
              "      background-color: #3B4455;\n",
              "      fill: #D2E3FC;\n",
              "    }\n",
              "\n",
              "    [theme=dark] .colab-df-convert:hover {\n",
              "      background-color: #434B5C;\n",
              "      box-shadow: 0px 1px 3px 1px rgba(0, 0, 0, 0.15);\n",
              "      filter: drop-shadow(0px 1px 2px rgba(0, 0, 0, 0.3));\n",
              "      fill: #FFFFFF;\n",
              "    }\n",
              "  </style>\n",
              "\n",
              "    <script>\n",
              "      const buttonEl =\n",
              "        document.querySelector('#df-9ab39e92-e8da-496b-ab59-f1d133f66c8b button.colab-df-convert');\n",
              "      buttonEl.style.display =\n",
              "        google.colab.kernel.accessAllowed ? 'block' : 'none';\n",
              "\n",
              "      async function convertToInteractive(key) {\n",
              "        const element = document.querySelector('#df-9ab39e92-e8da-496b-ab59-f1d133f66c8b');\n",
              "        const dataTable =\n",
              "          await google.colab.kernel.invokeFunction('convertToInteractive',\n",
              "                                                    [key], {});\n",
              "        if (!dataTable) return;\n",
              "\n",
              "        const docLinkHtml = 'Like what you see? Visit the ' +\n",
              "          '<a target=\"_blank\" href=https://colab.research.google.com/notebooks/data_table.ipynb>data table notebook</a>'\n",
              "          + ' to learn more about interactive tables.';\n",
              "        element.innerHTML = '';\n",
              "        dataTable['output_type'] = 'display_data';\n",
              "        await google.colab.output.renderOutput(dataTable, element);\n",
              "        const docLink = document.createElement('div');\n",
              "        docLink.innerHTML = docLinkHtml;\n",
              "        element.appendChild(docLink);\n",
              "      }\n",
              "    </script>\n",
              "  </div>\n",
              "\n",
              "\n",
              "<div id=\"df-2907b2d2-d43f-4032-b1b6-ca7c6c036d0b\">\n",
              "  <button class=\"colab-df-quickchart\" onclick=\"quickchart('df-2907b2d2-d43f-4032-b1b6-ca7c6c036d0b')\"\n",
              "            title=\"Suggest charts\"\n",
              "            style=\"display:none;\">\n",
              "\n",
              "<svg xmlns=\"http://www.w3.org/2000/svg\" height=\"24px\"viewBox=\"0 0 24 24\"\n",
              "     width=\"24px\">\n",
              "    <g>\n",
              "        <path d=\"M19 3H5c-1.1 0-2 .9-2 2v14c0 1.1.9 2 2 2h14c1.1 0 2-.9 2-2V5c0-1.1-.9-2-2-2zM9 17H7v-7h2v7zm4 0h-2V7h2v10zm4 0h-2v-4h2v4z\"/>\n",
              "    </g>\n",
              "</svg>\n",
              "  </button>\n",
              "\n",
              "<style>\n",
              "  .colab-df-quickchart {\n",
              "      --bg-color: #E8F0FE;\n",
              "      --fill-color: #1967D2;\n",
              "      --hover-bg-color: #E2EBFA;\n",
              "      --hover-fill-color: #174EA6;\n",
              "      --disabled-fill-color: #AAA;\n",
              "      --disabled-bg-color: #DDD;\n",
              "  }\n",
              "\n",
              "  [theme=dark] .colab-df-quickchart {\n",
              "      --bg-color: #3B4455;\n",
              "      --fill-color: #D2E3FC;\n",
              "      --hover-bg-color: #434B5C;\n",
              "      --hover-fill-color: #FFFFFF;\n",
              "      --disabled-bg-color: #3B4455;\n",
              "      --disabled-fill-color: #666;\n",
              "  }\n",
              "\n",
              "  .colab-df-quickchart {\n",
              "    background-color: var(--bg-color);\n",
              "    border: none;\n",
              "    border-radius: 50%;\n",
              "    cursor: pointer;\n",
              "    display: none;\n",
              "    fill: var(--fill-color);\n",
              "    height: 32px;\n",
              "    padding: 0;\n",
              "    width: 32px;\n",
              "  }\n",
              "\n",
              "  .colab-df-quickchart:hover {\n",
              "    background-color: var(--hover-bg-color);\n",
              "    box-shadow: 0 1px 2px rgba(60, 64, 67, 0.3), 0 1px 3px 1px rgba(60, 64, 67, 0.15);\n",
              "    fill: var(--button-hover-fill-color);\n",
              "  }\n",
              "\n",
              "  .colab-df-quickchart-complete:disabled,\n",
              "  .colab-df-quickchart-complete:disabled:hover {\n",
              "    background-color: var(--disabled-bg-color);\n",
              "    fill: var(--disabled-fill-color);\n",
              "    box-shadow: none;\n",
              "  }\n",
              "\n",
              "  .colab-df-spinner {\n",
              "    border: 2px solid var(--fill-color);\n",
              "    border-color: transparent;\n",
              "    border-bottom-color: var(--fill-color);\n",
              "    animation:\n",
              "      spin 1s steps(1) infinite;\n",
              "  }\n",
              "\n",
              "  @keyframes spin {\n",
              "    0% {\n",
              "      border-color: transparent;\n",
              "      border-bottom-color: var(--fill-color);\n",
              "      border-left-color: var(--fill-color);\n",
              "    }\n",
              "    20% {\n",
              "      border-color: transparent;\n",
              "      border-left-color: var(--fill-color);\n",
              "      border-top-color: var(--fill-color);\n",
              "    }\n",
              "    30% {\n",
              "      border-color: transparent;\n",
              "      border-left-color: var(--fill-color);\n",
              "      border-top-color: var(--fill-color);\n",
              "      border-right-color: var(--fill-color);\n",
              "    }\n",
              "    40% {\n",
              "      border-color: transparent;\n",
              "      border-right-color: var(--fill-color);\n",
              "      border-top-color: var(--fill-color);\n",
              "    }\n",
              "    60% {\n",
              "      border-color: transparent;\n",
              "      border-right-color: var(--fill-color);\n",
              "    }\n",
              "    80% {\n",
              "      border-color: transparent;\n",
              "      border-right-color: var(--fill-color);\n",
              "      border-bottom-color: var(--fill-color);\n",
              "    }\n",
              "    90% {\n",
              "      border-color: transparent;\n",
              "      border-bottom-color: var(--fill-color);\n",
              "    }\n",
              "  }\n",
              "</style>\n",
              "\n",
              "  <script>\n",
              "    async function quickchart(key) {\n",
              "      const quickchartButtonEl =\n",
              "        document.querySelector('#' + key + ' button');\n",
              "      quickchartButtonEl.disabled = true;  // To prevent multiple clicks.\n",
              "      quickchartButtonEl.classList.add('colab-df-spinner');\n",
              "      try {\n",
              "        const charts = await google.colab.kernel.invokeFunction(\n",
              "            'suggestCharts', [key], {});\n",
              "      } catch (error) {\n",
              "        console.error('Error during call to suggestCharts:', error);\n",
              "      }\n",
              "      quickchartButtonEl.classList.remove('colab-df-spinner');\n",
              "      quickchartButtonEl.classList.add('colab-df-quickchart-complete');\n",
              "    }\n",
              "    (() => {\n",
              "      let quickchartButtonEl =\n",
              "        document.querySelector('#df-2907b2d2-d43f-4032-b1b6-ca7c6c036d0b button');\n",
              "      quickchartButtonEl.style.display =\n",
              "        google.colab.kernel.accessAllowed ? 'block' : 'none';\n",
              "    })();\n",
              "  </script>\n",
              "</div>\n",
              "\n",
              "    </div>\n",
              "  </div>\n"
            ],
            "application/vnd.google.colaboratory.intrinsic+json": {
              "type": "dataframe",
              "variable_name": "df",
              "summary": "{\n  \"name\": \"df\",\n  \"rows\": 1599,\n  \"fields\": [\n    {\n      \"column\": \"acidezFija\",\n      \"properties\": {\n        \"dtype\": \"number\",\n        \"std\": 1.7410963181277006,\n        \"min\": 4.6,\n        \"max\": 15.9,\n        \"num_unique_values\": 96,\n        \"samples\": [\n          5.3,\n          12.7,\n          12.6\n        ],\n        \"semantic_type\": \"\",\n        \"description\": \"\"\n      }\n    },\n    {\n      \"column\": \"acidezVolatil\",\n      \"properties\": {\n        \"dtype\": \"number\",\n        \"std\": 0.17905970415353498,\n        \"min\": 0.12,\n        \"max\": 1.58,\n        \"num_unique_values\": 143,\n        \"samples\": [\n          1.025,\n          0.4,\n          0.87\n        ],\n        \"semantic_type\": \"\",\n        \"description\": \"\"\n      }\n    },\n    {\n      \"column\": \"acidoCitrico\",\n      \"properties\": {\n        \"dtype\": \"number\",\n        \"std\": 0.19480113740531785,\n        \"min\": 0.0,\n        \"max\": 1.0,\n        \"num_unique_values\": 80,\n        \"samples\": [\n          0.37,\n          0.0,\n          0.09\n        ],\n        \"semantic_type\": \"\",\n        \"description\": \"\"\n      }\n    },\n    {\n      \"column\": \"azucarResidual\",\n      \"properties\": {\n        \"dtype\": \"number\",\n        \"std\": 1.4099280595072805,\n        \"min\": 0.9,\n        \"max\": 15.5,\n        \"num_unique_values\": 91,\n        \"samples\": [\n          11.0,\n          3.0,\n          15.5\n        ],\n        \"semantic_type\": \"\",\n        \"description\": \"\"\n      }\n    },\n    {\n      \"column\": \"cloruros\",\n      \"properties\": {\n        \"dtype\": \"number\",\n        \"std\": 0.047065302010090154,\n        \"min\": 0.012,\n        \"max\": 0.611,\n        \"num_unique_values\": 153,\n        \"samples\": [\n          0.096,\n          0.343,\n          0.159\n        ],\n        \"semantic_type\": \"\",\n        \"description\": \"\"\n      }\n    },\n    {\n      \"column\": \"dioxidoAzufreLibre\",\n      \"properties\": {\n        \"dtype\": \"number\",\n        \"std\": 10.46015696980973,\n        \"min\": 1.0,\n        \"max\": 72.0,\n        \"num_unique_values\": 60,\n        \"samples\": [\n          11.0,\n          9.0,\n          32.0\n        ],\n        \"semantic_type\": \"\",\n        \"description\": \"\"\n      }\n    },\n    {\n      \"column\": \"dioxidoAzufreTotal\",\n      \"properties\": {\n        \"dtype\": \"number\",\n        \"std\": 32.89532447829901,\n        \"min\": 6.0,\n        \"max\": 289.0,\n        \"num_unique_values\": 144,\n        \"samples\": [\n          68.0,\n          35.0,\n          101.0\n        ],\n        \"semantic_type\": \"\",\n        \"description\": \"\"\n      }\n    },\n    {\n      \"column\": \"densidad\",\n      \"properties\": {\n        \"dtype\": \"number\",\n        \"std\": 0.0018873339538425559,\n        \"min\": 0.99007,\n        \"max\": 1.00369,\n        \"num_unique_values\": 436,\n        \"samples\": [\n          0.99974,\n          1.0001,\n          0.99471\n        ],\n        \"semantic_type\": \"\",\n        \"description\": \"\"\n      }\n    },\n    {\n      \"column\": \"pH\",\n      \"properties\": {\n        \"dtype\": \"number\",\n        \"std\": 0.15438646490354266,\n        \"min\": 2.74,\n        \"max\": 4.01,\n        \"num_unique_values\": 89,\n        \"samples\": [\n          3.07,\n          3.0,\n          3.15\n        ],\n        \"semantic_type\": \"\",\n        \"description\": \"\"\n      }\n    },\n    {\n      \"column\": \"sulfatos\",\n      \"properties\": {\n        \"dtype\": \"number\",\n        \"std\": 0.16950697959010977,\n        \"min\": 0.33,\n        \"max\": 2.0,\n        \"num_unique_values\": 96,\n        \"samples\": [\n          1.07,\n          1.04,\n          1.18\n        ],\n        \"semantic_type\": \"\",\n        \"description\": \"\"\n      }\n    },\n    {\n      \"column\": \"alcohol\",\n      \"properties\": {\n        \"dtype\": \"number\",\n        \"std\": 1.0656675818563965,\n        \"min\": 8.4,\n        \"max\": 14.9,\n        \"num_unique_values\": 65,\n        \"samples\": [\n          8.5,\n          9.95,\n          9.4\n        ],\n        \"semantic_type\": \"\",\n        \"description\": \"\"\n      }\n    },\n    {\n      \"column\": \"calidad\",\n      \"properties\": {\n        \"dtype\": \"number\",\n        \"std\": 0,\n        \"min\": 3,\n        \"max\": 8,\n        \"num_unique_values\": 6,\n        \"samples\": [\n          5,\n          6,\n          3\n        ],\n        \"semantic_type\": \"\",\n        \"description\": \"\"\n      }\n    }\n  ]\n}"
            }
          },
          "metadata": {},
          "execution_count": 95
        }
      ],
      "source": [
        "import pandas as pd\n",
        "df = pd.read_csv(\"A1.4 Vino Tinto.csv\")\n",
        "rows, cols = df.shape\n",
        "print(\"Las dimensiones de la base de datos son de\",rows,\"filas x\",cols,\"columnas\")\n",
        "df.head(5)"
      ]
    },
    {
      "cell_type": "markdown",
      "source": [
        "**2.** Para comenzar a trabajar con modelos se **separa la base de datos** en dos con una proporción de** 80% entranamiento** y **20% prueba**. Esto se hace utilizando la función `train_test_split` de la librería `sklearn.model_selection` la cuál divide el dataset en 2 de manera aleatoria para evitar sesgos. Se imprime un resumen de ambos data sets y sus dimensiones para comprobar que mantienen el mismo número de observaciones en conjunto que la base de datos original."
      ],
      "metadata": {
        "id": "fb9WHHh6FBp1"
      }
    },
    {
      "cell_type": "code",
      "source": [
        "from sklearn.model_selection import train_test_split\n",
        "train, test = train_test_split(df, test_size=0.2, random_state=42)\n",
        "print(\"Training Set:\")\n",
        "print(train)\n",
        "print(\"\\nTesting Set:\")\n",
        "print(test)\n",
        "total = train.shape[0] + test.shape[0]\n",
        "\n",
        "print(f\"Cantidad de observaciones: {total}\")"
      ],
      "metadata": {
        "colab": {
          "base_uri": "https://localhost:8080/"
        },
        "id": "uPvtbjiGLZ2u",
        "outputId": "7d81f165-4e46-488f-8490-c0058834e65d"
      },
      "execution_count": 96,
      "outputs": [
        {
          "output_type": "stream",
          "name": "stdout",
          "text": [
            "Training Set:\n",
            "      acidezFija  acidezVolatil  acidoCitrico  azucarResidual  cloruros  \\\n",
            "493          8.7          0.690          0.31             3.0     0.086   \n",
            "354          6.1          0.210          0.40             1.4     0.066   \n",
            "342         10.9          0.390          0.47             1.8     0.118   \n",
            "834          8.8          0.685          0.26             1.6     0.088   \n",
            "705          8.4          1.035          0.15             6.0     0.073   \n",
            "...          ...            ...           ...             ...       ...   \n",
            "1130         9.1          0.600          0.00             1.9     0.058   \n",
            "1294         8.2          0.635          0.10             2.1     0.073   \n",
            "860          7.2          0.620          0.06             2.7     0.077   \n",
            "1459         7.9          0.200          0.35             1.7     0.054   \n",
            "1126         5.8          0.290          0.26             1.7     0.063   \n",
            "\n",
            "      dioxidoAzufreLibre  dioxidoAzufreTotal  densidad    pH  sulfatos  \\\n",
            "493                 23.0                81.0   1.00020  3.48      0.74   \n",
            "354                 40.5               165.0   0.99120  3.25      0.59   \n",
            "342                  6.0                14.0   0.99820  3.30      0.75   \n",
            "834                 16.0                23.0   0.99694  3.32      0.47   \n",
            "705                 11.0                54.0   0.99900  3.37      0.49   \n",
            "...                  ...                 ...       ...   ...       ...   \n",
            "1130                 5.0                10.0   0.99770  3.18      0.63   \n",
            "1294                25.0                60.0   0.99638  3.29      0.75   \n",
            "860                 15.0                85.0   0.99746  3.51      0.54   \n",
            "1459                 7.0                15.0   0.99458  3.32      0.80   \n",
            "1126                 3.0                11.0   0.99150  3.39      0.54   \n",
            "\n",
            "      alcohol  calidad  \n",
            "493      11.6        6  \n",
            "354      11.9        6  \n",
            "342       9.8        6  \n",
            "834       9.4        5  \n",
            "705       9.9        5  \n",
            "...       ...      ...  \n",
            "1130     10.4        6  \n",
            "1294     10.9        6  \n",
            "860       9.5        5  \n",
            "1459     11.9        7  \n",
            "1126     13.5        6  \n",
            "\n",
            "[1279 rows x 12 columns]\n",
            "\n",
            "Testing Set:\n",
            "      acidezFija  acidezVolatil  acidoCitrico  azucarResidual  cloruros  \\\n",
            "803          7.7          0.560          0.08            2.50     0.114   \n",
            "124          7.8          0.500          0.17            1.60     0.082   \n",
            "350         10.7          0.670          0.22            2.70     0.107   \n",
            "682          8.5          0.460          0.31            2.25     0.078   \n",
            "1326         6.7          0.460          0.24            1.70     0.077   \n",
            "...          ...            ...           ...             ...       ...   \n",
            "1259         6.8          0.640          0.00            2.70     0.123   \n",
            "1295         6.6          0.630          0.00            4.30     0.093   \n",
            "1155         8.3          0.600          0.25            2.20     0.118   \n",
            "963          8.8          0.270          0.39            2.00     0.100   \n",
            "704          9.1          0.765          0.04            1.60     0.078   \n",
            "\n",
            "      dioxidoAzufreLibre  dioxidoAzufreTotal  densidad    pH  sulfatos  \\\n",
            "803                 14.0                46.0   0.99710  3.24      0.66   \n",
            "124                 21.0               102.0   0.99600  3.39      0.48   \n",
            "350                 17.0                34.0   1.00040  3.28      0.98   \n",
            "682                 32.0                58.0   0.99800  3.33      0.54   \n",
            "1326                18.0                34.0   0.99480  3.39      0.60   \n",
            "...                  ...                 ...       ...   ...       ...   \n",
            "1259                15.0                33.0   0.99538  3.44      0.63   \n",
            "1295                51.0                77.5   0.99558  3.20      0.45   \n",
            "1155                 9.0                38.0   0.99616  3.15      0.53   \n",
            "963                 20.0                27.0   0.99546  3.15      0.69   \n",
            "704                  4.0                14.0   0.99800  3.29      0.54   \n",
            "\n",
            "      alcohol  calidad  \n",
            "803       9.6        6  \n",
            "124       9.5        5  \n",
            "350       9.9        6  \n",
            "682       9.8        5  \n",
            "1326     10.6        6  \n",
            "...       ...      ...  \n",
            "1259     11.3        6  \n",
            "1295      9.5        5  \n",
            "1155      9.8        5  \n",
            "963      11.2        6  \n",
            "704       9.7        4  \n",
            "\n",
            "[320 rows x 12 columns]\n",
            "Cantidad de observaciones: 1599\n"
          ]
        }
      ]
    },
    {
      "cell_type": "markdown",
      "source": [
        "**3.** En la siguiente celda se utiliza el método de **selección hacia adelante** para seleccionar las características que mejor funcionen para un modelo de **regresión lineal múltiple**. Se preparan los datos de entrenamiento aislando las variables de entrada y la de salida y utilizando la función `Linear Regression` de `sklearn.linear_model` se genera un modelo de regresión lineal el cual se adapte a los datos de entrenamiento.\n",
        "\n",
        "Para la selección se utiliza la función `SequentialFeatureSelector` de `mlxtend.feature_selection` y se le da de parámetro el modelo generado previamente. Además se establece el parámetro `forward` como `True` para trabajar con selección hacia adelante y se selecciona la **R^2** como métrica para medir el desempeño de las variables. El parámetro `k_features` se escoge como `'best'` con el objetivo de que se seleccione el número de variables que mejor le funcione al modelo para tener un mejor ajuste a los datos.\n",
        "\n",
        "Una vez hecho el proceso, se imprimen los índices y nombres de las variables que resultaron ser las mejores para el modelo."
      ],
      "metadata": {
        "id": "Y32fveg2Fsyh"
      }
    },
    {
      "cell_type": "code",
      "source": [
        "from sklearn.linear_model import LinearRegression\n",
        "from mlxtend.feature_selection import SequentialFeatureSelector as SFS\n",
        "\n",
        "x_train = train.iloc[:,:-1]\n",
        "y_train = train.iloc[:,-1]\n",
        "\n",
        "model = LinearRegression()\n",
        "model.fit(x_train, y_train)\n",
        "sfs_f = SFS(model, k_features = 'best',forward = True, scoring = 'r2',cv = 10, verbose = 1)\n",
        "sfs_f.fit(x_train,y_train)\n",
        "selected_features_f = list(sfs_f.k_feature_names_)\n",
        "print(\"\\n✅ Características seleccionadas:\")\n",
        "print(f\"Índices: {sfs_f.k_feature_idx_}\")\n",
        "print(f\"Nombres: {selected_features_f}\")\n"
      ],
      "metadata": {
        "colab": {
          "base_uri": "https://localhost:8080/"
        },
        "id": "EtUyio3NvHPh",
        "outputId": "3bbe4e05-8700-4193-ed3b-14c14225aab3"
      },
      "execution_count": 97,
      "outputs": [
        {
          "output_type": "stream",
          "name": "stderr",
          "text": [
            "Features: 11/11"
          ]
        },
        {
          "output_type": "stream",
          "name": "stdout",
          "text": [
            "\n",
            "✅ Características seleccionadas:\n",
            "Índices: (1, 4, 5, 6, 8, 9, 10)\n",
            "Nombres: ['acidezVolatil', 'cloruros', 'dioxidoAzufreLibre', 'dioxidoAzufreTotal', 'pH', 'sulfatos', 'alcohol']\n"
          ]
        }
      ]
    },
    {
      "cell_type": "markdown",
      "source": [
        "**4.** Una vez escogidas las variables más relevantes para el modelo, se entrena un nuevo modelo que solamente toma en cuenta estas variables, en este caso 7. El entrenamiento se logra generando vectores nuevos de variables que **solo contengan los datos de las variables previamente seleccionadas** y utilizando la función `.fit` con estos datos. Este nuevo modelo se se prueba con los datos de prueba utilizando la función `.predict` y midiendo el desempeño del modelo con estos datos nuevos. Se importa la función `r2_score` de `sklearn.metrics` para medir el **desempeño del modelo**. Se imprimen las variables usadas en el modelo y su respectivo valor de **R^2 para los datos de prueba**."
      ],
      "metadata": {
        "id": "ot6dMTapHLPx"
      }
    },
    {
      "cell_type": "code",
      "source": [
        "from sklearn.metrics import r2_score\n",
        "x_test = test.iloc[:,:-1]\n",
        "y_test = test.iloc[:,-1]\n",
        "x_train_selected_f = x_train[selected_features_f]\n",
        "x_test_selected_f = x_test[selected_features_f]\n",
        "\n",
        "model.fit(x_train_selected_f, y_train)\n",
        "\n",
        "y_pred_f = model.predict(x_test_selected_f)\n",
        "r2_f = r2_score(y_test,y_pred_f)\n",
        "\n",
        "print(\"\\n✅ Modelo entrenado con las siguientes características seleccionadas:\")\n",
        "print(selected_features_f)\n",
        "print(f\"\\n📊 R^2 en datos de prueba: {r2_f:.4f}\")"
      ],
      "metadata": {
        "colab": {
          "base_uri": "https://localhost:8080/"
        },
        "id": "Ug-tptkrvuaC",
        "outputId": "229b8ca9-19de-468b-d0c7-0bd77d61a5c9"
      },
      "execution_count": 98,
      "outputs": [
        {
          "output_type": "stream",
          "name": "stdout",
          "text": [
            "\n",
            "✅ Modelo entrenado con las siguientes características seleccionadas:\n",
            "['acidezVolatil', 'cloruros', 'dioxidoAzufreLibre', 'dioxidoAzufreTotal', 'pH', 'sulfatos', 'alcohol']\n",
            "\n",
            "📊 R^2 en datos de prueba: 0.4013\n"
          ]
        }
      ]
    },
    {
      "cell_type": "markdown",
      "source": [
        "**5.** En la siguiente celda se utiliza el método de **selección hacia atrás** y se repite el proceso de la sección 3 con algunos cambios en el uso de la función `SequentialFeatureSelector`.\n",
        "\n",
        "El parámetro `forward` como `False` para trabajar con selección hacia atrás y se sigue seleccionando **R^2** como métrica para medir el desempeño de las variables. El parámetro `k_features` se sigue seleccionando como `'best'` con el objetivo de que se seleccione el número de variables que mejor le funcione al modelo para tener un mejor ajuste a los datos.\n",
        "\n",
        "Una vez hecho el proceso, se imprimen los índices y nombres de las variables que resultaron ser las mejores para el modelo."
      ],
      "metadata": {
        "id": "q4O8oD_nIlxW"
      }
    },
    {
      "cell_type": "code",
      "source": [
        "sfs_b = SFS(model, k_features = 'best',forward = False, scoring = 'r2',cv = 10, verbose = 1)\n",
        "sfs_b.fit(x_train,y_train)\n",
        "selected_features_b = list(sfs_b.k_feature_names_)\n",
        "print(\"\\n✅ Características seleccionadas:\")\n",
        "print(f\"Índices: {sfs_b.k_feature_idx_}\")\n",
        "print(f\"Nombres: {selected_features_b}\")"
      ],
      "metadata": {
        "colab": {
          "base_uri": "https://localhost:8080/"
        },
        "id": "rbCDB3YJ503p",
        "outputId": "2ed72b40-cb0b-4dd5-bb47-b3f1175cc1fa"
      },
      "execution_count": 99,
      "outputs": [
        {
          "output_type": "stream",
          "name": "stderr",
          "text": [
            "Features: 1/1"
          ]
        },
        {
          "output_type": "stream",
          "name": "stdout",
          "text": [
            "\n",
            "✅ Características seleccionadas:\n",
            "Índices: (1, 4, 5, 6, 8, 9, 10)\n",
            "Nombres: ['acidezVolatil', 'cloruros', 'dioxidoAzufreLibre', 'dioxidoAzufreTotal', 'pH', 'sulfatos', 'alcohol']\n"
          ]
        }
      ]
    },
    {
      "cell_type": "markdown",
      "source": [
        "**6.** Una vez escogidas las variables más relevantes para el modelo hacia atrás, se repite la sección 4 y se entrena un nuevo modelo que solamente toma en cuenta las variables seleccionadas.\n",
        "\n",
        "Se imprimen las variables usadas en el modelo y su respectivo valor de **R^2 para los datos de prueba**."
      ],
      "metadata": {
        "id": "laLX0O9NJLvy"
      }
    },
    {
      "cell_type": "code",
      "source": [
        "x_train_selected_b = x_train[selected_features_b]\n",
        "x_test_selected_b = x_test[selected_features_b]\n",
        "\n",
        "model.fit(x_train_selected_b, y_train)\n",
        "\n",
        "y_pred_b = model.predict(x_test_selected_b)\n",
        "r2_b = r2_score(y_test,y_pred_b)\n",
        "\n",
        "print(\"\\n✅ Modelo entrenado con las siguientes características seleccionadas:\")\n",
        "print(selected_features_b)\n",
        "print(f\"\\n📊 R^2 en datos de prueba: {r2_b:.4f}\")\n",
        "\n",
        "print(f\"\\nEl modelo de selección hacia adelante tiene un R^2 de {r2_f}\")\n",
        "print(f\"y el modelo de selección hacia atrás de {r2_b}, el R^2 de ambos\")\n",
        "print(\"modelos es igual, lo cual en mi opinión sucede debido a que el dataset es muy pequeño\")\n",
        "print(\"y al utilizar el parámetro 'best' para encontrar el mejor ajuste en cantidad\")\n",
        "print(\"de variables, ambos modelos resultan iguales. Por lo cuál en estos casos, ambos tipos\")\n",
        "print(\"de selección entregan el mismo resultado.\")"
      ],
      "metadata": {
        "colab": {
          "base_uri": "https://localhost:8080/"
        },
        "id": "Ft5C2vJt7esw",
        "outputId": "4f7abd3b-bbde-4824-c54d-d527730ae4e2"
      },
      "execution_count": 100,
      "outputs": [
        {
          "output_type": "stream",
          "name": "stdout",
          "text": [
            "\n",
            "✅ Modelo entrenado con las siguientes características seleccionadas:\n",
            "['acidezVolatil', 'cloruros', 'dioxidoAzufreLibre', 'dioxidoAzufreTotal', 'pH', 'sulfatos', 'alcohol']\n",
            "\n",
            "📊 R^2 en datos de prueba: 0.4013\n",
            "\n",
            "El modelo de selección hacia adelante tiene un R^2 de 0.4012628835440285\n",
            "y el modelo de selección hacia atrás de 0.4012628835440285, el R^2 de ambos\n",
            "modelos es igual, lo cual en mi opinión sucede debido a que el dataset es muy pequeño\n",
            "y al utilizar el parámetro 'best' para encontrar el mejor ajuste en cantidad\n",
            "de variables, ambos modelos resultan iguales. Por lo cuál en estos casos, ambos tipos\n",
            "de selección entregan el mismo resultado.\n"
          ]
        }
      ]
    },
    {
      "cell_type": "markdown",
      "source": [
        "### **Conclusión**\n",
        "Tras analizar los resultados obtenidos de ambos métodos de selección se pudo observar que **ambos fueron practicamente idénticos** y se desempeñaron de la misma manera. Esto se debe mayor mente a dos cosas:\n",
        "\n",
        "* Se utilizó el parámetro `'best'` el cuál buscaba el número de variables que mejor desempeño tuviera para el modelo.\n",
        "\n",
        "* La base de datos es relativamente\n",
        "pequeña y tiene **pocas variables y observaciones** que generen diferencias entre ambos tipos de selección.\n",
        "\n",
        "Para una base de datos como la que se trabajó, ambos métodos de selección son igual de eficientes y entregan los mismos resultados, por lo cuál **ninguno es mejor que el otro**.\n",
        "\n",
        "*Cabe recalcar que esto no se mantiene para bases de datos más grandes en las cuales el tipo de selección si genera una diferencia notable en el desempeño del modelo y que sí existirían diferencias si el parámetro `k_features` hubiera sido modificado para tener más o menos variables en cada uno de los modelos.*\n"
      ],
      "metadata": {
        "id": "Rnuj4VfIJfM2"
      }
    },
    {
      "cell_type": "markdown",
      "source": [
        "## Referencias\n",
        "Cortez, P., Cerdeira, A., Almeida, F., Matos, T., & Reis, J. (2009). Wine Quality [Dataset]. UCI Machine Learning Repository. https://doi.org/10.24432/C56S3T."
      ],
      "metadata": {
        "id": "3UGt5x5WLsVk"
      }
    }
  ]
}